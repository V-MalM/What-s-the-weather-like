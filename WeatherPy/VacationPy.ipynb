{
 "cells": [
  {
   "cell_type": "markdown",
   "metadata": {},
   "source": [
    "# VacationPy\n",
    "----\n",
    "\n",
    "#### Note\n",
    "* Keep an eye on your API usage. Use https://developers.google.com/maps/reporting/gmp-reporting as reference for how to monitor your usage and billing.\n",
    "\n",
    "* Instructions have been included for each segment. You do not have to follow them exactly, but they are included to help you think through the steps."
   ]
  },
  {
   "cell_type": "code",
   "execution_count": 1,
   "metadata": {},
   "outputs": [],
   "source": [
    "# Dependencies and Setup\n",
    "# Dependencies and Setup\n",
    "import matplotlib.pyplot as plt\n",
    "import pandas as pd\n",
    "import numpy as np\n",
    "import requests\n",
    "import gmaps\n",
    "import os\n",
    "\n",
    "# Import API key\n",
    "from api_keys import g_key\n",
    "gmaps.configure(api_key=g_key)"
   ]
  },
  {
   "cell_type": "markdown",
   "metadata": {},
   "source": [
    "### Store Part I results into DataFrame\n",
    "* Load the csv exported in Part I to a DataFrame"
   ]
  },
  {
   "cell_type": "code",
   "execution_count": 3,
   "metadata": {},
   "outputs": [
    {
     "output_type": "execute_result",
     "data": {
      "text/plain": [
       "   Index         City      Lat       Lng  Max Temp  Humidity  Cloudiness  \\\n",
       "0      0  Provideniya  64.3833 -173.3000     57.31        62           0   \n",
       "1      1      Qaanaaq  77.4840  -69.3632     39.58        64          19   \n",
       "2      2      Yen Bai  21.7000  104.8667     81.54        72          66   \n",
       "3      3   San Andres  12.5847  -81.7006     82.80        79          45   \n",
       "4      4        Plast  54.3691   60.8136     50.27        49           1   \n",
       "\n",
       "   Wind Speed Country        Date  \n",
       "0        8.95      RU  1624226543  \n",
       "1        4.79      GL  1624226544  \n",
       "2        2.59      VN  1624226544  \n",
       "3       17.05      CO  1624226544  \n",
       "4       11.43      RU  1624226545  "
      ],
      "text/html": "<div>\n<style scoped>\n    .dataframe tbody tr th:only-of-type {\n        vertical-align: middle;\n    }\n\n    .dataframe tbody tr th {\n        vertical-align: top;\n    }\n\n    .dataframe thead th {\n        text-align: right;\n    }\n</style>\n<table border=\"1\" class=\"dataframe\">\n  <thead>\n    <tr style=\"text-align: right;\">\n      <th></th>\n      <th>Index</th>\n      <th>City</th>\n      <th>Lat</th>\n      <th>Lng</th>\n      <th>Max Temp</th>\n      <th>Humidity</th>\n      <th>Cloudiness</th>\n      <th>Wind Speed</th>\n      <th>Country</th>\n      <th>Date</th>\n    </tr>\n  </thead>\n  <tbody>\n    <tr>\n      <th>0</th>\n      <td>0</td>\n      <td>Provideniya</td>\n      <td>64.3833</td>\n      <td>-173.3000</td>\n      <td>57.31</td>\n      <td>62</td>\n      <td>0</td>\n      <td>8.95</td>\n      <td>RU</td>\n      <td>1624226543</td>\n    </tr>\n    <tr>\n      <th>1</th>\n      <td>1</td>\n      <td>Qaanaaq</td>\n      <td>77.4840</td>\n      <td>-69.3632</td>\n      <td>39.58</td>\n      <td>64</td>\n      <td>19</td>\n      <td>4.79</td>\n      <td>GL</td>\n      <td>1624226544</td>\n    </tr>\n    <tr>\n      <th>2</th>\n      <td>2</td>\n      <td>Yen Bai</td>\n      <td>21.7000</td>\n      <td>104.8667</td>\n      <td>81.54</td>\n      <td>72</td>\n      <td>66</td>\n      <td>2.59</td>\n      <td>VN</td>\n      <td>1624226544</td>\n    </tr>\n    <tr>\n      <th>3</th>\n      <td>3</td>\n      <td>San Andres</td>\n      <td>12.5847</td>\n      <td>-81.7006</td>\n      <td>82.80</td>\n      <td>79</td>\n      <td>45</td>\n      <td>17.05</td>\n      <td>CO</td>\n      <td>1624226544</td>\n    </tr>\n    <tr>\n      <th>4</th>\n      <td>4</td>\n      <td>Plast</td>\n      <td>54.3691</td>\n      <td>60.8136</td>\n      <td>50.27</td>\n      <td>49</td>\n      <td>1</td>\n      <td>11.43</td>\n      <td>RU</td>\n      <td>1624226545</td>\n    </tr>\n  </tbody>\n</table>\n</div>"
     },
     "metadata": {},
     "execution_count": 3
    }
   ],
   "source": [
    "city_data = pd.read_csv(\"output_data/cities.csv\")\n",
    "city_data['City']=city_data['City'].str.title()\n",
    "coordinates=city_data[['Lat', 'Lng']]\n",
    "weight = city_data['Humidity']\n",
    "max_intensity = city_data['Humidity'].max()\n",
    "city_data.head()"
   ]
  },
  {
   "cell_type": "markdown",
   "metadata": {},
   "source": [
    "### Humidity Heatmap\n",
    "* Configure gmaps.\n",
    "* Use the Lat and Lng as locations and Humidity as the weight.\n",
    "* Add Heatmap layer to map."
   ]
  },
  {
   "cell_type": "code",
   "execution_count": 33,
   "metadata": {},
   "outputs": [
    {
     "output_type": "display_data",
     "data": {
      "text/plain": "Figure(layout=FigureLayout(border='1px solid black', height='500px', margin='0 auto 0 auto', padding='1px', wi…",
      "application/vnd.jupyter.widget-view+json": {
       "version_major": 2,
       "version_minor": 0,
       "model_id": "caa0162027d6467cb710cd875adaca84"
      }
     },
     "metadata": {}
    }
   ],
   "source": [
    "figure_layout = {\"width\": \"625\",\"height\": \"500px\",\"border\": \"1px solid black\",\"padding\": \"1px\",\"margin\": \"0 auto 0 auto\"}\n",
    "fig = gmaps.figure(layout=figure_layout)\n",
    "\n",
    "fig.add_layer(gmaps.heatmap_layer(coordinates, weights=weight, max_intensity=max_intensity, point_radius=6, opacity=0.8))\n",
    "fig"
   ]
  },
  {
   "cell_type": "code",
   "execution_count": null,
   "metadata": {},
   "outputs": [],
   "source": []
  },
  {
   "cell_type": "markdown",
   "metadata": {},
   "source": [
    "### Create new DataFrame fitting weather criteria\n",
    "* Narrow down the cities to fit weather conditions.\n",
    "* Drop any rows will null values."
   ]
  },
  {
   "cell_type": "markdown",
   "metadata": {},
   "source": [
    "### Hotel Map\n",
    "* Store into variable named `hotel_df`.\n",
    "* Add a \"Hotel Name\" column to the DataFrame.\n",
    "* Set parameters to search for hotels with 5000 meters.\n",
    "* Hit the Google Places API for each city's coordinates.\n",
    "* Store the first Hotel result into the DataFrame.\n",
    "* Plot markers on top of the heatmap."
   ]
  },
  {
   "cell_type": "code",
   "execution_count": 42,
   "metadata": {},
   "outputs": [
    {
     "output_type": "execute_result",
     "data": {
      "text/plain": [
       "     Index        City      Lat      Lng  Max Temp  Humidity  Cloudiness  \\\n",
       "6        6   Cape Town -33.9258  18.4232     70.09        12           0   \n",
       "35      35   Marrakesh  31.6315  -8.0083     73.47        43           0   \n",
       "89      89  Nikolskoye  59.7035  30.7861     75.09        70           0   \n",
       "189    189     Naqadeh  36.9553  45.3880     70.11        31           0   \n",
       "270    270   Barcelona  41.3888   2.1590     76.69        69           0   \n",
       "\n",
       "     Wind Speed Country        Date HotelName  \n",
       "6          9.22      ZA  1624226400            \n",
       "35         9.22      MA  1624226554            \n",
       "89         5.19      RU  1624226571            \n",
       "189        3.11      IR  1624226603            \n",
       "270        1.01      ES  1624226625            "
      ],
      "text/html": "<div>\n<style scoped>\n    .dataframe tbody tr th:only-of-type {\n        vertical-align: middle;\n    }\n\n    .dataframe tbody tr th {\n        vertical-align: top;\n    }\n\n    .dataframe thead th {\n        text-align: right;\n    }\n</style>\n<table border=\"1\" class=\"dataframe\">\n  <thead>\n    <tr style=\"text-align: right;\">\n      <th></th>\n      <th>Index</th>\n      <th>City</th>\n      <th>Lat</th>\n      <th>Lng</th>\n      <th>Max Temp</th>\n      <th>Humidity</th>\n      <th>Cloudiness</th>\n      <th>Wind Speed</th>\n      <th>Country</th>\n      <th>Date</th>\n      <th>HotelName</th>\n    </tr>\n  </thead>\n  <tbody>\n    <tr>\n      <th>6</th>\n      <td>6</td>\n      <td>Cape Town</td>\n      <td>-33.9258</td>\n      <td>18.4232</td>\n      <td>70.09</td>\n      <td>12</td>\n      <td>0</td>\n      <td>9.22</td>\n      <td>ZA</td>\n      <td>1624226400</td>\n      <td></td>\n    </tr>\n    <tr>\n      <th>35</th>\n      <td>35</td>\n      <td>Marrakesh</td>\n      <td>31.6315</td>\n      <td>-8.0083</td>\n      <td>73.47</td>\n      <td>43</td>\n      <td>0</td>\n      <td>9.22</td>\n      <td>MA</td>\n      <td>1624226554</td>\n      <td></td>\n    </tr>\n    <tr>\n      <th>89</th>\n      <td>89</td>\n      <td>Nikolskoye</td>\n      <td>59.7035</td>\n      <td>30.7861</td>\n      <td>75.09</td>\n      <td>70</td>\n      <td>0</td>\n      <td>5.19</td>\n      <td>RU</td>\n      <td>1624226571</td>\n      <td></td>\n    </tr>\n    <tr>\n      <th>189</th>\n      <td>189</td>\n      <td>Naqadeh</td>\n      <td>36.9553</td>\n      <td>45.3880</td>\n      <td>70.11</td>\n      <td>31</td>\n      <td>0</td>\n      <td>3.11</td>\n      <td>IR</td>\n      <td>1624226603</td>\n      <td></td>\n    </tr>\n    <tr>\n      <th>270</th>\n      <td>270</td>\n      <td>Barcelona</td>\n      <td>41.3888</td>\n      <td>2.1590</td>\n      <td>76.69</td>\n      <td>69</td>\n      <td>0</td>\n      <td>1.01</td>\n      <td>ES</td>\n      <td>1624226625</td>\n      <td></td>\n    </tr>\n  </tbody>\n</table>\n</div>"
     },
     "metadata": {},
     "execution_count": 42
    }
   ],
   "source": [
    "# A max temperature lower than 80 degrees but higher than 70.\n",
    "# Wind speed less than 10 mph.\n",
    "# Zero cloudiness.\n",
    "\n",
    "#Store into variable named hotel_df\n",
    "hotel_df = pd.DataFrame(city_data.loc[((city_data[\"Max Temp\"]>=70) & (city_data[\"Max Temp\"]<=80))& (city_data[\"Wind Speed\"]<10) & (city_data[\"Cloudiness\"] == 0)])\n",
    "\n",
    "# Add a \"Hotel Name\" column to the DataFrame.\n",
    "hotel_df['HotelName'] = \"\"\n",
    "hotel_df.head()"
   ]
  },
  {
   "cell_type": "code",
   "execution_count": null,
   "metadata": {},
   "outputs": [],
   "source": []
  },
  {
   "cell_type": "code",
   "execution_count": 35,
   "metadata": {},
   "outputs": [],
   "source": [
    "base_url = \"https://maps.googleapis.com/maps/api/place/nearbysearch/json\"\n",
    "\n",
    "# use iterrows to iterate through hotel_df dataframe\n",
    "# Set parameters to search each hotel within 5000 meters.\n",
    "for index, row in hotel_df.iterrows():\n",
    "    locations = str(row[\"Lat\"])+\",\"+str(row[\"Lng\"])\n",
    "    params = {\n",
    "        \"location\": locations, \n",
    "        \"radius\": '5000',\n",
    "        \"type\": \"hotel\",\n",
    "        \"key\": g_key,\n",
    "    }\n",
    "    # Hit the Google Places API for each city's coordinates.\n",
    "    response = requests.get(base_url, params=params).json()\n",
    "\n",
    "    #Store the first Hotel result into the DataFrame.\n",
    "    hotel_df.loc[index, 'HotelName'] = (response['results'][1]['name']).title()"
   ]
  },
  {
   "cell_type": "code",
   "execution_count": 41,
   "metadata": {},
   "outputs": [
    {
     "output_type": "execute_result",
     "data": {
      "text/plain": [
       "     Index        City      Lat      Lng  Max Temp  Humidity  Cloudiness  \\\n",
       "6        6   Cape Town -33.9258  18.4232     70.09        12           0   \n",
       "35      35   Marrakesh  31.6315  -8.0083     73.47        43           0   \n",
       "89      89  Nikolskoye  59.7035  30.7861     75.09        70           0   \n",
       "189    189     Naqadeh  36.9553  45.3880     70.11        31           0   \n",
       "270    270   Barcelona  41.3888   2.1590     76.69        69           0   \n",
       "\n",
       "     Wind Speed Country        Date                          HotelName  \n",
       "6          9.22      ZA  1624226400  Southern Sun Waterfront Cape Town  \n",
       "35         9.22      MA  1624226554        Novotel Marrakech Hivernage  \n",
       "89         5.19      RU  1624226571             Nikolskaya College № 1  \n",
       "189        3.11      IR  1624226603          دبیرستان غیردولتی خوارزمی  \n",
       "270        1.01      ES  1624226625               Axel Hotel Barcelona  "
      ],
      "text/html": "<div>\n<style scoped>\n    .dataframe tbody tr th:only-of-type {\n        vertical-align: middle;\n    }\n\n    .dataframe tbody tr th {\n        vertical-align: top;\n    }\n\n    .dataframe thead th {\n        text-align: right;\n    }\n</style>\n<table border=\"1\" class=\"dataframe\">\n  <thead>\n    <tr style=\"text-align: right;\">\n      <th></th>\n      <th>Index</th>\n      <th>City</th>\n      <th>Lat</th>\n      <th>Lng</th>\n      <th>Max Temp</th>\n      <th>Humidity</th>\n      <th>Cloudiness</th>\n      <th>Wind Speed</th>\n      <th>Country</th>\n      <th>Date</th>\n      <th>HotelName</th>\n    </tr>\n  </thead>\n  <tbody>\n    <tr>\n      <th>6</th>\n      <td>6</td>\n      <td>Cape Town</td>\n      <td>-33.9258</td>\n      <td>18.4232</td>\n      <td>70.09</td>\n      <td>12</td>\n      <td>0</td>\n      <td>9.22</td>\n      <td>ZA</td>\n      <td>1624226400</td>\n      <td>Southern Sun Waterfront Cape Town</td>\n    </tr>\n    <tr>\n      <th>35</th>\n      <td>35</td>\n      <td>Marrakesh</td>\n      <td>31.6315</td>\n      <td>-8.0083</td>\n      <td>73.47</td>\n      <td>43</td>\n      <td>0</td>\n      <td>9.22</td>\n      <td>MA</td>\n      <td>1624226554</td>\n      <td>Novotel Marrakech Hivernage</td>\n    </tr>\n    <tr>\n      <th>89</th>\n      <td>89</td>\n      <td>Nikolskoye</td>\n      <td>59.7035</td>\n      <td>30.7861</td>\n      <td>75.09</td>\n      <td>70</td>\n      <td>0</td>\n      <td>5.19</td>\n      <td>RU</td>\n      <td>1624226571</td>\n      <td>Nikolskaya College № 1</td>\n    </tr>\n    <tr>\n      <th>189</th>\n      <td>189</td>\n      <td>Naqadeh</td>\n      <td>36.9553</td>\n      <td>45.3880</td>\n      <td>70.11</td>\n      <td>31</td>\n      <td>0</td>\n      <td>3.11</td>\n      <td>IR</td>\n      <td>1624226603</td>\n      <td>دبیرستان غیردولتی خوارزمی</td>\n    </tr>\n    <tr>\n      <th>270</th>\n      <td>270</td>\n      <td>Barcelona</td>\n      <td>41.3888</td>\n      <td>2.1590</td>\n      <td>76.69</td>\n      <td>69</td>\n      <td>0</td>\n      <td>1.01</td>\n      <td>ES</td>\n      <td>1624226625</td>\n      <td>Axel Hotel Barcelona</td>\n    </tr>\n  </tbody>\n</table>\n</div>"
     },
     "metadata": {},
     "execution_count": 41
    }
   ],
   "source": [
    "# NOTE: Do not change any of the code in this cell\n",
    "\n",
    "# Using the template add the hotel marks to the heatmap\n",
    "info_box_template = \"\"\"\n",
    "<dl>\n",
    "<dt><b>Name</b></dt><dt>{HotelName}</dt>\n",
    "<dt><b>City</b></dt><dt>{City}</dt>\n",
    "<dt><b>Country</b></dt><dt>{Country}</dt>\n",
    "</dl>\n",
    "\"\"\"\n",
    "# Store the DataFrame Row\n",
    "# NOTE: be sure to update with your DataFrame name\n",
    "\n",
    "hotel_info = [info_box_template.format(**row) for index, row in hotel_df.iterrows()]\n",
    "locations = hotel_df[[\"Lat\", \"Lng\"]]\n",
    "hotel_df.head()"
   ]
  },
  {
   "cell_type": "code",
   "execution_count": 38,
   "metadata": {},
   "outputs": [
    {
     "output_type": "display_data",
     "data": {
      "text/plain": "Figure(layout=FigureLayout(border='1px solid black', height='500px', margin='0 auto 0 auto', padding='1px', wi…",
      "application/vnd.jupyter.widget-view+json": {
       "version_major": 2,
       "version_minor": 0,
       "model_id": "caa0162027d6467cb710cd875adaca84"
      }
     },
     "metadata": {}
    }
   ],
   "source": [
    "# Plot markers on top of the heatmap.\n",
    "markers = gmaps.marker_layer(locations, info_box_content=hotel_info,  hover_text='Click for Hotel')\n",
    "\n",
    "# Add the layer to the map\n",
    "fig.add_layer(markers)\n",
    "\n",
    "# Display figure\n",
    "fig"
   ]
  },
  {
   "cell_type": "code",
   "execution_count": null,
   "metadata": {},
   "outputs": [],
   "source": []
  }
 ],
 "metadata": {
  "kernelspec": {
   "name": "python3",
   "display_name": "Python 3.8.5 64-bit ('base': conda)"
  },
  "language_info": {
   "codemirror_mode": {
    "name": "ipython",
    "version": 3
   },
   "file_extension": ".py",
   "mimetype": "text/x-python",
   "name": "python",
   "nbconvert_exporter": "python",
   "pygments_lexer": "ipython3",
   "version": "3.8.5"
  },
  "latex_envs": {
   "LaTeX_envs_menu_present": true,
   "autoclose": false,
   "autocomplete": true,
   "bibliofile": "biblio.bib",
   "cite_by": "apalike",
   "current_citInitial": 1,
   "eqLabelWithNumbers": true,
   "eqNumInitial": 1,
   "hotkeys": {
    "equation": "Ctrl-E",
    "itemize": "Ctrl-I"
   },
   "labels_anchors": false,
   "latex_user_defs": false,
   "report_style_numbering": false,
   "user_envs_cfg": false
  },
  "interpreter": {
   "hash": "eb0a5deb85624cf39522bd9ea766efe3b585b85d5e69ded4a98e5c69611b9570"
  }
 },
 "nbformat": 4,
 "nbformat_minor": 4
}