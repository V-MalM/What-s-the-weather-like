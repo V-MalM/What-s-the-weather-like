{
 "cells": [
  {
   "cell_type": "markdown",
   "metadata": {},
   "source": [
    "# VacationPy\n",
    "----\n",
    "\n",
    "#### Note\n",
    "* Keep an eye on your API usage. Use https://developers.google.com/maps/reporting/gmp-reporting as reference for how to monitor your usage and billing.\n",
    "\n",
    "* Instructions have been included for each segment. You do not have to follow them exactly, but they are included to help you think through the steps."
   ]
  },
  {
   "cell_type": "code",
   "execution_count": 1,
   "metadata": {},
   "outputs": [],
   "source": [
    "# Dependencies and Setup\n",
    "# Dependencies and Setup\n",
    "import matplotlib.pyplot as plt\n",
    "import pandas as pd\n",
    "import numpy as np\n",
    "import requests\n",
    "import gmaps\n",
    "import os\n",
    "\n",
    "# Import API key\n",
    "from api_keys import g_key\n",
    "gmaps.configure(api_key=g_key)"
   ]
  },
  {
   "cell_type": "markdown",
   "metadata": {},
   "source": [
    "### Store Part I results into DataFrame\n",
    "* Load the csv exported in Part I to a DataFrame"
   ]
  },
  {
   "cell_type": "code",
   "execution_count": 2,
   "metadata": {},
   "outputs": [
    {
     "output_type": "execute_result",
     "data": {
      "text/plain": [
       "     Index        City      Lat       Lng  Max Temp  Humidity  Cloudiness  \\\n",
       "0        0       Muros  42.7762   -9.0603     61.09        77         100   \n",
       "1        1      Hobart -42.8794  147.3294     47.01        92          90   \n",
       "2        2   Ostrovnoy  68.0531   39.5131     48.52        80          39   \n",
       "3        3         Voh -20.9667  164.7000     70.30        87          98   \n",
       "4        4     Isangel -19.5500  169.2667     76.21        85          72   \n",
       "..     ...         ...      ...       ...       ...       ...         ...   \n",
       "573    573     Cayenne   4.9333  -52.3333     86.04        75          75   \n",
       "574    574        Boli  45.7667  130.5167     53.04        97          12   \n",
       "575    575      Pangai -19.8000 -174.3500     76.12        75          18   \n",
       "576    576       Buala  -8.1450  159.5921     79.83        80          75   \n",
       "577    577  Beausejour  50.0622  -96.5167     71.78        65          93   \n",
       "\n",
       "     Wind Speed Country        Date  \n",
       "0         15.82      ES  1624133145  \n",
       "1          0.00      AU  1624132870  \n",
       "2          8.03      RU  1624133145  \n",
       "3          2.98      NC  1624133146  \n",
       "4          6.11      VU  1624133146  \n",
       "..          ...     ...         ...  \n",
       "573        1.01      GF  1624133529  \n",
       "574        4.34      CN  1624133529  \n",
       "575       12.28      TO  1624133530  \n",
       "576        4.88      SB  1624133530  \n",
       "577        9.78      CA  1624133530  \n",
       "\n",
       "[578 rows x 10 columns]"
      ],
      "text/html": "<div>\n<style scoped>\n    .dataframe tbody tr th:only-of-type {\n        vertical-align: middle;\n    }\n\n    .dataframe tbody tr th {\n        vertical-align: top;\n    }\n\n    .dataframe thead th {\n        text-align: right;\n    }\n</style>\n<table border=\"1\" class=\"dataframe\">\n  <thead>\n    <tr style=\"text-align: right;\">\n      <th></th>\n      <th>Index</th>\n      <th>City</th>\n      <th>Lat</th>\n      <th>Lng</th>\n      <th>Max Temp</th>\n      <th>Humidity</th>\n      <th>Cloudiness</th>\n      <th>Wind Speed</th>\n      <th>Country</th>\n      <th>Date</th>\n    </tr>\n  </thead>\n  <tbody>\n    <tr>\n      <th>0</th>\n      <td>0</td>\n      <td>Muros</td>\n      <td>42.7762</td>\n      <td>-9.0603</td>\n      <td>61.09</td>\n      <td>77</td>\n      <td>100</td>\n      <td>15.82</td>\n      <td>ES</td>\n      <td>1624133145</td>\n    </tr>\n    <tr>\n      <th>1</th>\n      <td>1</td>\n      <td>Hobart</td>\n      <td>-42.8794</td>\n      <td>147.3294</td>\n      <td>47.01</td>\n      <td>92</td>\n      <td>90</td>\n      <td>0.00</td>\n      <td>AU</td>\n      <td>1624132870</td>\n    </tr>\n    <tr>\n      <th>2</th>\n      <td>2</td>\n      <td>Ostrovnoy</td>\n      <td>68.0531</td>\n      <td>39.5131</td>\n      <td>48.52</td>\n      <td>80</td>\n      <td>39</td>\n      <td>8.03</td>\n      <td>RU</td>\n      <td>1624133145</td>\n    </tr>\n    <tr>\n      <th>3</th>\n      <td>3</td>\n      <td>Voh</td>\n      <td>-20.9667</td>\n      <td>164.7000</td>\n      <td>70.30</td>\n      <td>87</td>\n      <td>98</td>\n      <td>2.98</td>\n      <td>NC</td>\n      <td>1624133146</td>\n    </tr>\n    <tr>\n      <th>4</th>\n      <td>4</td>\n      <td>Isangel</td>\n      <td>-19.5500</td>\n      <td>169.2667</td>\n      <td>76.21</td>\n      <td>85</td>\n      <td>72</td>\n      <td>6.11</td>\n      <td>VU</td>\n      <td>1624133146</td>\n    </tr>\n    <tr>\n      <th>...</th>\n      <td>...</td>\n      <td>...</td>\n      <td>...</td>\n      <td>...</td>\n      <td>...</td>\n      <td>...</td>\n      <td>...</td>\n      <td>...</td>\n      <td>...</td>\n      <td>...</td>\n    </tr>\n    <tr>\n      <th>573</th>\n      <td>573</td>\n      <td>Cayenne</td>\n      <td>4.9333</td>\n      <td>-52.3333</td>\n      <td>86.04</td>\n      <td>75</td>\n      <td>75</td>\n      <td>1.01</td>\n      <td>GF</td>\n      <td>1624133529</td>\n    </tr>\n    <tr>\n      <th>574</th>\n      <td>574</td>\n      <td>Boli</td>\n      <td>45.7667</td>\n      <td>130.5167</td>\n      <td>53.04</td>\n      <td>97</td>\n      <td>12</td>\n      <td>4.34</td>\n      <td>CN</td>\n      <td>1624133529</td>\n    </tr>\n    <tr>\n      <th>575</th>\n      <td>575</td>\n      <td>Pangai</td>\n      <td>-19.8000</td>\n      <td>-174.3500</td>\n      <td>76.12</td>\n      <td>75</td>\n      <td>18</td>\n      <td>12.28</td>\n      <td>TO</td>\n      <td>1624133530</td>\n    </tr>\n    <tr>\n      <th>576</th>\n      <td>576</td>\n      <td>Buala</td>\n      <td>-8.1450</td>\n      <td>159.5921</td>\n      <td>79.83</td>\n      <td>80</td>\n      <td>75</td>\n      <td>4.88</td>\n      <td>SB</td>\n      <td>1624133530</td>\n    </tr>\n    <tr>\n      <th>577</th>\n      <td>577</td>\n      <td>Beausejour</td>\n      <td>50.0622</td>\n      <td>-96.5167</td>\n      <td>71.78</td>\n      <td>65</td>\n      <td>93</td>\n      <td>9.78</td>\n      <td>CA</td>\n      <td>1624133530</td>\n    </tr>\n  </tbody>\n</table>\n<p>578 rows × 10 columns</p>\n</div>"
     },
     "metadata": {},
     "execution_count": 2
    }
   ],
   "source": [
    "city_data = pd.read_csv(\"output_data/cities.csv\")\n",
    "city_data['City']=city_data['City'].str.title()\n",
    "coordinates=city_data[['Lat', 'Lng']]\n",
    "weight = city_data['Humidity']\n",
    "max_intensity = city_data['Humidity'].max()\n",
    "city_data"
   ]
  },
  {
   "cell_type": "markdown",
   "metadata": {},
   "source": [
    "### Humidity Heatmap\n",
    "* Configure gmaps.\n",
    "* Use the Lat and Lng as locations and Humidity as the weight.\n",
    "* Add Heatmap layer to map."
   ]
  },
  {
   "cell_type": "code",
   "execution_count": 3,
   "metadata": {},
   "outputs": [
    {
     "output_type": "display_data",
     "data": {
      "text/plain": "Figure(layout=FigureLayout(border='1px solid black', height='500px', margin='0 auto 0 auto', padding='1px', wi…",
      "application/vnd.jupyter.widget-view+json": {
       "version_major": 2,
       "version_minor": 0,
       "model_id": "b02de36decaa492c8a7d02cb57991b79"
      }
     },
     "metadata": {}
    }
   ],
   "source": [
    "figure_layout = {\"width\": \"625px\",\"height\": \"500px\",\"border\": \"1px solid black\",\"padding\": \"1px\",\"margin\": \"0 auto 0 auto\"}\n",
    "fig = gmaps.figure(layout=figure_layout)\n",
    "\n",
    "# gmaps.heatmap_layer(locations, weights=None, max_intensity=None, dissipating=True, point_radius=None, opacity=0.6, gradient=None)¶\n",
    "fig.add_layer(gmaps.heatmap_layer(coordinates, weights=weight, max_intensity=max_intensity))\n",
    "fig"
   ]
  },
  {
   "cell_type": "code",
   "execution_count": null,
   "metadata": {},
   "outputs": [],
   "source": []
  },
  {
   "cell_type": "markdown",
   "metadata": {},
   "source": [
    "### Create new DataFrame fitting weather criteria\n",
    "* Narrow down the cities to fit weather conditions.\n",
    "* Drop any rows will null values."
   ]
  },
  {
   "cell_type": "markdown",
   "metadata": {},
   "source": [
    "### Hotel Map\n",
    "* Store into variable named `hotel_df`.\n",
    "* Add a \"Hotel Name\" column to the DataFrame.\n",
    "* Set parameters to search for hotels with 5000 meters.\n",
    "* Hit the Google Places API for each city's coordinates.\n",
    "* Store the first Hotel result into the DataFrame.\n",
    "* Plot markers on top of the heatmap."
   ]
  },
  {
   "cell_type": "code",
   "execution_count": 4,
   "metadata": {},
   "outputs": [],
   "source": [
    "# A max temperature lower than 80 degrees but higher than 70.\n",
    "# Wind speed less than 10 mph.\n",
    "# Zero cloudiness.\n",
    "# Drop any rows that don't contain all three conditions. You want to be sure the weather is ideal.\n",
    "# Note: Feel free to adjust to your specifications but be sure to limit the number of rows returned by your API requests to a reasonable number.\n",
    "\n",
    "#Store into variable named hotel_df\n",
    "hotel_df = pd.DataFrame(city_data.loc[((city_data[\"Max Temp\"]>=70) & (city_data[\"Max Temp\"]<=80))& (city_data[\"Wind Speed\"]<10) & (city_data[\"Cloudiness\"] == 0)])\n",
    "\n",
    "# Add a \"Hotel Name\" column to the DataFrame.\n",
    "hotel_df['HotelName'] = \"\"\n",
    "#hotel_df"
   ]
  },
  {
   "cell_type": "code",
   "execution_count": null,
   "metadata": {},
   "outputs": [],
   "source": []
  },
  {
   "cell_type": "code",
   "execution_count": 5,
   "metadata": {},
   "outputs": [],
   "source": [
    "base_url = \"https://maps.googleapis.com/maps/api/place/nearbysearch/json\"\n",
    "\n",
    "# use iterrows to iterate through hotel_df dataframe\n",
    "# Set parameters to search each hotel within 5000 meters.\n",
    "for index, row in hotel_df.iterrows():\n",
    "    locations = str(row[\"Lat\"])+\",\"+str(row[\"Lng\"])\n",
    "    params = {\n",
    "        \"location\": locations, \n",
    "        \"radius\": '5000',\n",
    "        \"type\": \"hotel\",\n",
    "        \"key\": g_key,\n",
    "    }\n",
    "    # Hit the Google Places API for each city's coordinates.\n",
    "    response = requests.get(base_url, params=params).json()\n",
    "\n",
    "    #Store the first Hotel result into the DataFrame.\n",
    "    hotel_df.loc[index, 'HotelName'] = (response['results'][1]['name']).title()"
   ]
  },
  {
   "cell_type": "code",
   "execution_count": 6,
   "metadata": {},
   "outputs": [],
   "source": [
    "# NOTE: Do not change any of the code in this cell\n",
    "\n",
    "# Using the template add the hotel marks to the heatmap\n",
    "info_box_template = \"\"\"\n",
    "<dl>\n",
    "<dt><b>Name</b></dt><dt>{HotelName}</dt>\n",
    "<dt><b>City</b></dt><dt>{City}</dt>\n",
    "<dt><b>Country</b></dt><dt>{Country}</dt>\n",
    "</dl>\n",
    "\"\"\"\n",
    "# Store the DataFrame Row\n",
    "# NOTE: be sure to update with your DataFrame name\n",
    "\n",
    "hotel_info = [info_box_template.format(**row) for index, row in hotel_df.iterrows()]\n",
    "locations = hotel_df[[\"Lat\", \"Lng\"]]\n"
   ]
  },
  {
   "cell_type": "code",
   "execution_count": 8,
   "metadata": {},
   "outputs": [
    {
     "output_type": "error",
     "ename": "AttributeError",
     "evalue": "'Figure' object has no attribute 'savefigure'",
     "traceback": [
      "\u001b[1;31m---------------------------------------------------------------------------\u001b[0m",
      "\u001b[1;31mAttributeError\u001b[0m                            Traceback (most recent call last)",
      "\u001b[1;32m<ipython-input-8-b7b584d69e58>\u001b[0m in \u001b[0;36m<module>\u001b[1;34m\u001b[0m\n\u001b[0;32m      6\u001b[0m \u001b[1;33m\u001b[0m\u001b[0m\n\u001b[0;32m      7\u001b[0m \u001b[1;31m# Display figure\u001b[0m\u001b[1;33m\u001b[0m\u001b[1;33m\u001b[0m\u001b[1;33m\u001b[0m\u001b[0m\n\u001b[1;32m----> 8\u001b[1;33m \u001b[0mfig\u001b[0m\u001b[1;33m.\u001b[0m\u001b[0msavefigure\u001b[0m\u001b[1;33m(\u001b[0m\u001b[1;34m\"t.png\"\u001b[0m\u001b[1;33m)\u001b[0m\u001b[1;33m\u001b[0m\u001b[1;33m\u001b[0m\u001b[0m\n\u001b[0m\u001b[0;32m      9\u001b[0m \u001b[0mfig\u001b[0m\u001b[1;33m\u001b[0m\u001b[1;33m\u001b[0m\u001b[0m\n",
      "\u001b[1;31mAttributeError\u001b[0m: 'Figure' object has no attribute 'savefigure'"
     ]
    }
   ],
   "source": [
    "# Plot markers on top of the heatmap.\n",
    "markers = gmaps.marker_layer(locations, info_box_content=hotel_info,  hover_text='Click for Hotel')\n",
    "\n",
    "# Add the layer to the map\n",
    "fig.add_layer(markers)\n",
    "\n",
    "# Display figure\n",
    "fig\n"
   ]
  },
  {
   "cell_type": "code",
   "execution_count": null,
   "metadata": {},
   "outputs": [],
   "source": []
  }
 ],
 "metadata": {
  "kernelspec": {
   "name": "python3",
   "display_name": "Python 3.8.5 64-bit ('base': conda)"
  },
  "language_info": {
   "codemirror_mode": {
    "name": "ipython",
    "version": 3
   },
   "file_extension": ".py",
   "mimetype": "text/x-python",
   "name": "python",
   "nbconvert_exporter": "python",
   "pygments_lexer": "ipython3",
   "version": "3.8.5"
  },
  "latex_envs": {
   "LaTeX_envs_menu_present": true,
   "autoclose": false,
   "autocomplete": true,
   "bibliofile": "biblio.bib",
   "cite_by": "apalike",
   "current_citInitial": 1,
   "eqLabelWithNumbers": true,
   "eqNumInitial": 1,
   "hotkeys": {
    "equation": "Ctrl-E",
    "itemize": "Ctrl-I"
   },
   "labels_anchors": false,
   "latex_user_defs": false,
   "report_style_numbering": false,
   "user_envs_cfg": false
  },
  "interpreter": {
   "hash": "eb0a5deb85624cf39522bd9ea766efe3b585b85d5e69ded4a98e5c69611b9570"
  }
 },
 "nbformat": 4,
 "nbformat_minor": 4
}