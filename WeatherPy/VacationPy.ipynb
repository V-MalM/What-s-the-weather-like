{
 "cells": [
  {
   "source": [
    "![Earth](images_notebk/vaca_dream.jpg)"
   ],
   "cell_type": "markdown",
   "metadata": {}
  },
  {
   "cell_type": "code",
   "execution_count": 1,
   "metadata": {},
   "outputs": [],
   "source": [
    "%matplotlib inline"
   ]
  },
  {
   "cell_type": "code",
   "execution_count": 2,
   "metadata": {},
   "outputs": [],
   "source": [
    "# Dependencies and Setup\n",
    "# Dependencies and Setup\n",
    "import matplotlib.pyplot as plt\n",
    "import pandas as pd\n",
    "import numpy as np\n",
    "import requests\n",
    "import gmaps\n",
    "import os\n",
    "\n",
    "# Import API key\n",
    "from api_keys import g_key\n",
    "gmaps.configure(api_key=g_key)"
   ]
  },
  {
   "cell_type": "markdown",
   "metadata": {},
   "source": [
    "### Store Part I results into DataFrame\n",
    "* Load the csv exported in Part I to a DataFrame"
   ]
  },
  {
   "cell_type": "code",
   "execution_count": 3,
   "metadata": {},
   "outputs": [
    {
     "output_type": "execute_result",
     "data": {
      "text/plain": [
       "   Index          City      Lat       Lng  Max Temp  Humidity  Cloudiness  \\\n",
       "0      0         Arlit  18.7369    7.3853     94.03        15          47   \n",
       "1      1      Thompson  55.7435  -97.8558     62.76        59          75   \n",
       "2      2  Saint George  37.1041 -113.5841     94.62        20           1   \n",
       "3      3    Cernatesti  45.2667   26.7667     67.80        76          99   \n",
       "4      4         Vaini -21.2000 -175.2000     68.16        88          75   \n",
       "\n",
       "   Wind Speed Country        Date  \n",
       "0        5.88      NE  1624484744  \n",
       "1       13.80      CA  1624484707  \n",
       "2        8.01      US  1624484461  \n",
       "3        5.10      RO  1624484744  \n",
       "4        4.61      TO  1624484745  "
      ],
      "text/html": "<div>\n<style scoped>\n    .dataframe tbody tr th:only-of-type {\n        vertical-align: middle;\n    }\n\n    .dataframe tbody tr th {\n        vertical-align: top;\n    }\n\n    .dataframe thead th {\n        text-align: right;\n    }\n</style>\n<table border=\"1\" class=\"dataframe\">\n  <thead>\n    <tr style=\"text-align: right;\">\n      <th></th>\n      <th>Index</th>\n      <th>City</th>\n      <th>Lat</th>\n      <th>Lng</th>\n      <th>Max Temp</th>\n      <th>Humidity</th>\n      <th>Cloudiness</th>\n      <th>Wind Speed</th>\n      <th>Country</th>\n      <th>Date</th>\n    </tr>\n  </thead>\n  <tbody>\n    <tr>\n      <th>0</th>\n      <td>0</td>\n      <td>Arlit</td>\n      <td>18.7369</td>\n      <td>7.3853</td>\n      <td>94.03</td>\n      <td>15</td>\n      <td>47</td>\n      <td>5.88</td>\n      <td>NE</td>\n      <td>1624484744</td>\n    </tr>\n    <tr>\n      <th>1</th>\n      <td>1</td>\n      <td>Thompson</td>\n      <td>55.7435</td>\n      <td>-97.8558</td>\n      <td>62.76</td>\n      <td>59</td>\n      <td>75</td>\n      <td>13.80</td>\n      <td>CA</td>\n      <td>1624484707</td>\n    </tr>\n    <tr>\n      <th>2</th>\n      <td>2</td>\n      <td>Saint George</td>\n      <td>37.1041</td>\n      <td>-113.5841</td>\n      <td>94.62</td>\n      <td>20</td>\n      <td>1</td>\n      <td>8.01</td>\n      <td>US</td>\n      <td>1624484461</td>\n    </tr>\n    <tr>\n      <th>3</th>\n      <td>3</td>\n      <td>Cernatesti</td>\n      <td>45.2667</td>\n      <td>26.7667</td>\n      <td>67.80</td>\n      <td>76</td>\n      <td>99</td>\n      <td>5.10</td>\n      <td>RO</td>\n      <td>1624484744</td>\n    </tr>\n    <tr>\n      <th>4</th>\n      <td>4</td>\n      <td>Vaini</td>\n      <td>-21.2000</td>\n      <td>-175.2000</td>\n      <td>68.16</td>\n      <td>88</td>\n      <td>75</td>\n      <td>4.61</td>\n      <td>TO</td>\n      <td>1624484745</td>\n    </tr>\n  </tbody>\n</table>\n</div>"
     },
     "metadata": {},
     "execution_count": 3
    }
   ],
   "source": [
    "city_data = pd.read_csv(\"output_data/cities.csv\")\n",
    "city_data['City']=city_data['City'].str.title()\n",
    "coordinates=city_data[['Lat', 'Lng']]\n",
    "weight = city_data['Humidity']\n",
    "max_intensity = city_data['Humidity'].max()\n",
    "city_data.head()"
   ]
  },
  {
   "cell_type": "markdown",
   "metadata": {},
   "source": [
    "### Humidity Heatmap\n",
    "* Configure gmaps.\n",
    "* Use the Lat and Lng as locations and Humidity as the weight.\n",
    "* Add Heatmap layer to map."
   ]
  },
  {
   "cell_type": "code",
   "execution_count": 4,
   "metadata": {
    "scrolled": true
   },
   "outputs": [
    {
     "output_type": "display_data",
     "data": {
      "text/plain": "Figure(layout=FigureLayout(border='1px solid black', height='500px', margin='0 auto 0 auto', padding='1px', wi…",
      "application/vnd.jupyter.widget-view+json": {
       "version_major": 2,
       "version_minor": 0,
       "model_id": "b8cde5fbcff64c7e8597348fc2e31cf7"
      }
     },
     "metadata": {}
    }
   ],
   "source": [
    "figure_layout = {\"width\": \"625\",\"height\": \"500px\",\"border\": \"1px solid black\",\"padding\": \"1px\",\"margin\": \"0 auto 0 auto\"}\n",
    "fig = gmaps.figure(layout=figure_layout)\n",
    "\n",
    "fig.add_layer(gmaps.heatmap_layer(coordinates, weights=weight, max_intensity=max_intensity, point_radius=6, opacity=0.8))\n",
    "fig"
   ]
  },
  {
   "cell_type": "code",
   "execution_count": null,
   "metadata": {},
   "outputs": [],
   "source": []
  },
  {
   "cell_type": "markdown",
   "metadata": {},
   "source": [
    "### Create new DataFrame fitting weather criteria\n",
    "* Narrow down the cities to fit weather conditions.\n",
    "* Drop any rows will null values."
   ]
  },
  {
   "cell_type": "markdown",
   "metadata": {},
   "source": [
    "### Hotel Map\n",
    "* Store into variable named `hotel_df`.\n",
    "* Add a \"Hotel Name\" column to the DataFrame.\n",
    "* Set parameters to search for hotels with 5000 meters.\n",
    "* Hit the Google Places API for each city's coordinates.\n",
    "* Store the first Hotel result into the DataFrame.\n",
    "* Plot markers on top of the heatmap."
   ]
  },
  {
   "cell_type": "code",
   "execution_count": 5,
   "metadata": {},
   "outputs": [
    {
     "output_type": "execute_result",
     "data": {
      "text/plain": [
       "     Index             City      Lat      Lng  Max Temp  Humidity  Cloudiness  \\\n",
       "21      21  Arraial Do Cabo -22.9661 -42.0278     69.76        78           0   \n",
       "54      54           Martil  35.6166  -5.2752     71.67        78           0   \n",
       "80      80             Gasa  31.5000  34.4667     76.98        74           0   \n",
       "84      84            Korla  41.7597  86.1469     71.49        21           0   \n",
       "259    259       Uttarkashi  30.7333  78.4500     68.50        72           0   \n",
       "\n",
       "     Wind Speed Country        Date HotelName  \n",
       "21         3.44      BR  1624484750            \n",
       "54         6.91      MA  1624484760            \n",
       "80         4.23      PS  1624484768            \n",
       "84         8.55      CN  1624484769            \n",
       "259        6.42      IN  1624484891            "
      ],
      "text/html": "<div>\n<style scoped>\n    .dataframe tbody tr th:only-of-type {\n        vertical-align: middle;\n    }\n\n    .dataframe tbody tr th {\n        vertical-align: top;\n    }\n\n    .dataframe thead th {\n        text-align: right;\n    }\n</style>\n<table border=\"1\" class=\"dataframe\">\n  <thead>\n    <tr style=\"text-align: right;\">\n      <th></th>\n      <th>Index</th>\n      <th>City</th>\n      <th>Lat</th>\n      <th>Lng</th>\n      <th>Max Temp</th>\n      <th>Humidity</th>\n      <th>Cloudiness</th>\n      <th>Wind Speed</th>\n      <th>Country</th>\n      <th>Date</th>\n      <th>HotelName</th>\n    </tr>\n  </thead>\n  <tbody>\n    <tr>\n      <th>21</th>\n      <td>21</td>\n      <td>Arraial Do Cabo</td>\n      <td>-22.9661</td>\n      <td>-42.0278</td>\n      <td>69.76</td>\n      <td>78</td>\n      <td>0</td>\n      <td>3.44</td>\n      <td>BR</td>\n      <td>1624484750</td>\n      <td></td>\n    </tr>\n    <tr>\n      <th>54</th>\n      <td>54</td>\n      <td>Martil</td>\n      <td>35.6166</td>\n      <td>-5.2752</td>\n      <td>71.67</td>\n      <td>78</td>\n      <td>0</td>\n      <td>6.91</td>\n      <td>MA</td>\n      <td>1624484760</td>\n      <td></td>\n    </tr>\n    <tr>\n      <th>80</th>\n      <td>80</td>\n      <td>Gasa</td>\n      <td>31.5000</td>\n      <td>34.4667</td>\n      <td>76.98</td>\n      <td>74</td>\n      <td>0</td>\n      <td>4.23</td>\n      <td>PS</td>\n      <td>1624484768</td>\n      <td></td>\n    </tr>\n    <tr>\n      <th>84</th>\n      <td>84</td>\n      <td>Korla</td>\n      <td>41.7597</td>\n      <td>86.1469</td>\n      <td>71.49</td>\n      <td>21</td>\n      <td>0</td>\n      <td>8.55</td>\n      <td>CN</td>\n      <td>1624484769</td>\n      <td></td>\n    </tr>\n    <tr>\n      <th>259</th>\n      <td>259</td>\n      <td>Uttarkashi</td>\n      <td>30.7333</td>\n      <td>78.4500</td>\n      <td>68.50</td>\n      <td>72</td>\n      <td>0</td>\n      <td>6.42</td>\n      <td>IN</td>\n      <td>1624484891</td>\n      <td></td>\n    </tr>\n  </tbody>\n</table>\n</div>"
     },
     "metadata": {},
     "execution_count": 5
    }
   ],
   "source": [
    "# A max temperature lower than 80 degrees but higher than 70. \n",
    "# I dont mind a few degrees cooler, so going with max temps bwteeen 68 and 80\n",
    "# Wind speed less than 10 mph.\n",
    "# Zero cloudiness.\n",
    "\n",
    "#Store into variable named hotel_df\n",
    "hotel_df = pd.DataFrame(city_data.loc[((city_data[\"Max Temp\"]>=68) & (city_data[\"Max Temp\"]<=80)) & (city_data[\"Wind Speed\"]<10) & (city_data[\"Cloudiness\"] == 0) ])\n",
    "\n",
    "# Add a \"Hotel Name\" column to the DataFrame.\n",
    "hotel_df['HotelName'] = \"\"\n",
    "hotel_df.head()"
   ]
  },
  {
   "cell_type": "code",
   "execution_count": null,
   "metadata": {},
   "outputs": [],
   "source": []
  },
  {
   "cell_type": "code",
   "execution_count": 6,
   "metadata": {},
   "outputs": [],
   "source": [
    "base_url = \"https://maps.googleapis.com/maps/api/place/nearbysearch/json\"\n",
    "\n",
    "# use iterrows to iterate through hotel_df dataframe\n",
    "# Set parameters to search each hotel within 5000 meters.\n",
    "for index, row in hotel_df.iterrows():\n",
    "    locations = str(row[\"Lat\"])+\",\"+str(row[\"Lng\"])\n",
    "    params = {\n",
    "        \"location\": locations, \n",
    "        \"radius\": '5000',\n",
    "        \"type\": \"lodging\",\n",
    "        \"key\": g_key,\n",
    "    }\n",
    "    # Hit the Google Places API for each city's coordinates.\n",
    "    response = requests.get(base_url, params=params).json()\n",
    "\n",
    "    #Store the first Hotel result into the DataFrame.\n",
    "    hotel_df.loc[index, 'HotelName'] = (response['results'][0]['name']).title()"
   ]
  },
  {
   "cell_type": "code",
   "execution_count": 7,
   "metadata": {},
   "outputs": [
    {
     "output_type": "execute_result",
     "data": {
      "text/plain": [
       "     Index             City      Lat      Lng  Max Temp  Humidity  Cloudiness  \\\n",
       "21      21  Arraial Do Cabo -22.9661 -42.0278     69.76        78           0   \n",
       "54      54           Martil  35.6166  -5.2752     71.67        78           0   \n",
       "80      80             Gasa  31.5000  34.4667     76.98        74           0   \n",
       "84      84            Korla  41.7597  86.1469     71.49        21           0   \n",
       "259    259       Uttarkashi  30.7333  78.4500     68.50        72           0   \n",
       "271    271         Langarud  37.1970  50.1535     75.18        52           0   \n",
       "305    305         Ukholovo  53.7929  40.4892     70.25        79           0   \n",
       "394    394     Komsomolskiy  40.4272  71.7189     70.52        35           0   \n",
       "429    429              Gat  31.6100  34.7642     75.88        79           0   \n",
       "454    454           Sulina  45.1559  29.6536     69.37        89           0   \n",
       "457    457        Tonekabon  36.8163  50.8738     75.15        40           0   \n",
       "557    557         Sidi Ali  36.0998   0.4206     68.41        65           0   \n",
       "\n",
       "     Wind Speed Country        Date                   HotelName  \n",
       "21         3.44      BR  1624484750         Pousada Porto Praia  \n",
       "54         6.91      MA  1624484760                  فندق مرتيل  \n",
       "80         4.23      PS  1624484768  رابطة الفنانين الفلسطينيين  \n",
       "84         8.55      CN  1624484769             Gulisitan Hotel  \n",
       "259        6.42      IN  1624484891                 Anand Ganga  \n",
       "271        4.03      IR  1624484895  ستاد اسکان فرهنگیان لنگرود  \n",
       "305        3.67      RU  1624484905                    Pupchiny  \n",
       "394        6.91      UZ  1624484996                   Ikathouse  \n",
       "429        3.09      IL  1624485008                    Olushome  \n",
       "454        6.85      RO  1624485015             Hotel Delta Est  \n",
       "457        3.06      IR  1624485016                 Hotel Sadra  \n",
       "557        6.33      DZ  1624485047     الغابة الترفيهية بورحمة  "
      ],
      "text/html": "<div>\n<style scoped>\n    .dataframe tbody tr th:only-of-type {\n        vertical-align: middle;\n    }\n\n    .dataframe tbody tr th {\n        vertical-align: top;\n    }\n\n    .dataframe thead th {\n        text-align: right;\n    }\n</style>\n<table border=\"1\" class=\"dataframe\">\n  <thead>\n    <tr style=\"text-align: right;\">\n      <th></th>\n      <th>Index</th>\n      <th>City</th>\n      <th>Lat</th>\n      <th>Lng</th>\n      <th>Max Temp</th>\n      <th>Humidity</th>\n      <th>Cloudiness</th>\n      <th>Wind Speed</th>\n      <th>Country</th>\n      <th>Date</th>\n      <th>HotelName</th>\n    </tr>\n  </thead>\n  <tbody>\n    <tr>\n      <th>21</th>\n      <td>21</td>\n      <td>Arraial Do Cabo</td>\n      <td>-22.9661</td>\n      <td>-42.0278</td>\n      <td>69.76</td>\n      <td>78</td>\n      <td>0</td>\n      <td>3.44</td>\n      <td>BR</td>\n      <td>1624484750</td>\n      <td>Pousada Porto Praia</td>\n    </tr>\n    <tr>\n      <th>54</th>\n      <td>54</td>\n      <td>Martil</td>\n      <td>35.6166</td>\n      <td>-5.2752</td>\n      <td>71.67</td>\n      <td>78</td>\n      <td>0</td>\n      <td>6.91</td>\n      <td>MA</td>\n      <td>1624484760</td>\n      <td>فندق مرتيل</td>\n    </tr>\n    <tr>\n      <th>80</th>\n      <td>80</td>\n      <td>Gasa</td>\n      <td>31.5000</td>\n      <td>34.4667</td>\n      <td>76.98</td>\n      <td>74</td>\n      <td>0</td>\n      <td>4.23</td>\n      <td>PS</td>\n      <td>1624484768</td>\n      <td>رابطة الفنانين الفلسطينيين</td>\n    </tr>\n    <tr>\n      <th>84</th>\n      <td>84</td>\n      <td>Korla</td>\n      <td>41.7597</td>\n      <td>86.1469</td>\n      <td>71.49</td>\n      <td>21</td>\n      <td>0</td>\n      <td>8.55</td>\n      <td>CN</td>\n      <td>1624484769</td>\n      <td>Gulisitan Hotel</td>\n    </tr>\n    <tr>\n      <th>259</th>\n      <td>259</td>\n      <td>Uttarkashi</td>\n      <td>30.7333</td>\n      <td>78.4500</td>\n      <td>68.50</td>\n      <td>72</td>\n      <td>0</td>\n      <td>6.42</td>\n      <td>IN</td>\n      <td>1624484891</td>\n      <td>Anand Ganga</td>\n    </tr>\n    <tr>\n      <th>271</th>\n      <td>271</td>\n      <td>Langarud</td>\n      <td>37.1970</td>\n      <td>50.1535</td>\n      <td>75.18</td>\n      <td>52</td>\n      <td>0</td>\n      <td>4.03</td>\n      <td>IR</td>\n      <td>1624484895</td>\n      <td>ستاد اسکان فرهنگیان لنگرود</td>\n    </tr>\n    <tr>\n      <th>305</th>\n      <td>305</td>\n      <td>Ukholovo</td>\n      <td>53.7929</td>\n      <td>40.4892</td>\n      <td>70.25</td>\n      <td>79</td>\n      <td>0</td>\n      <td>3.67</td>\n      <td>RU</td>\n      <td>1624484905</td>\n      <td>Pupchiny</td>\n    </tr>\n    <tr>\n      <th>394</th>\n      <td>394</td>\n      <td>Komsomolskiy</td>\n      <td>40.4272</td>\n      <td>71.7189</td>\n      <td>70.52</td>\n      <td>35</td>\n      <td>0</td>\n      <td>6.91</td>\n      <td>UZ</td>\n      <td>1624484996</td>\n      <td>Ikathouse</td>\n    </tr>\n    <tr>\n      <th>429</th>\n      <td>429</td>\n      <td>Gat</td>\n      <td>31.6100</td>\n      <td>34.7642</td>\n      <td>75.88</td>\n      <td>79</td>\n      <td>0</td>\n      <td>3.09</td>\n      <td>IL</td>\n      <td>1624485008</td>\n      <td>Olushome</td>\n    </tr>\n    <tr>\n      <th>454</th>\n      <td>454</td>\n      <td>Sulina</td>\n      <td>45.1559</td>\n      <td>29.6536</td>\n      <td>69.37</td>\n      <td>89</td>\n      <td>0</td>\n      <td>6.85</td>\n      <td>RO</td>\n      <td>1624485015</td>\n      <td>Hotel Delta Est</td>\n    </tr>\n    <tr>\n      <th>457</th>\n      <td>457</td>\n      <td>Tonekabon</td>\n      <td>36.8163</td>\n      <td>50.8738</td>\n      <td>75.15</td>\n      <td>40</td>\n      <td>0</td>\n      <td>3.06</td>\n      <td>IR</td>\n      <td>1624485016</td>\n      <td>Hotel Sadra</td>\n    </tr>\n    <tr>\n      <th>557</th>\n      <td>557</td>\n      <td>Sidi Ali</td>\n      <td>36.0998</td>\n      <td>0.4206</td>\n      <td>68.41</td>\n      <td>65</td>\n      <td>0</td>\n      <td>6.33</td>\n      <td>DZ</td>\n      <td>1624485047</td>\n      <td>الغابة الترفيهية بورحمة</td>\n    </tr>\n  </tbody>\n</table>\n</div>"
     },
     "metadata": {},
     "execution_count": 7
    }
   ],
   "source": [
    "# NOTE: Do not change any of the code in this cell\n",
    "\n",
    "# Using the template add the hotel marks to the heatmap\n",
    "info_box_template = \"\"\"\n",
    "<dl>\n",
    "<dt><b>Name</b></dt><dt>{HotelName}</dt>\n",
    "<dt><b>City</b></dt><dt>{City}</dt>\n",
    "<dt><b>Country</b></dt><dt>{Country}</dt>\n",
    "</dl>\n",
    "\"\"\"\n",
    "# Store the DataFrame Row\n",
    "# NOTE: be sure to update with your DataFrame name\n",
    "\n",
    "hotel_info = [info_box_template.format(**row) for index, row in hotel_df.iterrows()]\n",
    "locations = hotel_df[[\"Lat\", \"Lng\"]]\n",
    "hotel_df"
   ]
  },
  {
   "cell_type": "code",
   "execution_count": 8,
   "metadata": {},
   "outputs": [
    {
     "output_type": "display_data",
     "data": {
      "text/plain": "Figure(layout=FigureLayout(border='1px solid black', height='500px', margin='0 auto 0 auto', padding='1px', wi…",
      "application/vnd.jupyter.widget-view+json": {
       "version_major": 2,
       "version_minor": 0,
       "model_id": "b8cde5fbcff64c7e8597348fc2e31cf7"
      }
     },
     "metadata": {}
    }
   ],
   "source": [
    "# Plot markers on top of the heatmap.\n",
    "markers = gmaps.marker_layer(locations, info_box_content=hotel_info,  hover_text='Click for Hotel')\n",
    "\n",
    "# Add the layer to the map\n",
    "fig.add_layer(markers)\n",
    "\n",
    "# Display figure\n",
    "fig"
   ]
  },
  {
   "cell_type": "code",
   "execution_count": null,
   "metadata": {},
   "outputs": [],
   "source": []
  },
  {
   "cell_type": "code",
   "execution_count": null,
   "metadata": {},
   "outputs": [],
   "source": []
  }
 ],
 "metadata": {
  "interpreter": {
   "hash": "eb0a5deb85624cf39522bd9ea766efe3b585b85d5e69ded4a98e5c69611b9570"
  },
  "kernelspec": {
   "name": "python3",
   "display_name": "Python 3.8.5 64-bit ('base': conda)"
  },
  "language_info": {
   "codemirror_mode": {
    "name": "ipython",
    "version": 3
   },
   "file_extension": ".py",
   "mimetype": "text/x-python",
   "name": "python",
   "nbconvert_exporter": "python",
   "pygments_lexer": "ipython3",
   "version": "3.8.5"
  },
  "latex_envs": {
   "LaTeX_envs_menu_present": true,
   "autoclose": false,
   "autocomplete": true,
   "bibliofile": "biblio.bib",
   "cite_by": "apalike",
   "current_citInitial": 1,
   "eqLabelWithNumbers": true,
   "eqNumInitial": 1,
   "hotkeys": {
    "equation": "Ctrl-E",
    "itemize": "Ctrl-I"
   },
   "labels_anchors": false,
   "latex_user_defs": false,
   "report_style_numbering": false,
   "user_envs_cfg": false
  }
 },
 "nbformat": 4,
 "nbformat_minor": 4
}